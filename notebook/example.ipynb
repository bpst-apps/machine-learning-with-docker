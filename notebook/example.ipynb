{
 "cells": [
  {
   "cell_type": "code",
   "execution_count": 1,
   "metadata": {},
   "outputs": [],
   "source": [
    "# Importing required packages\n",
    "from collections import namedtuple"
   ]
  },
  {
   "cell_type": "markdown",
   "metadata": {},
   "source": [
    "Steps\n",
    "1. Download url\n",
    "2. Download folder (compressed file)\n",
    "3. Extract folder (extracted file)\n",
    "4. Train dataset folder\n",
    "5. Test dataset folder"
   ]
  },
  {
   "cell_type": "code",
   "execution_count": 2,
   "metadata": {},
   "outputs": [],
   "source": [
    "# Define data ingestion configuration\n",
    "DataIngestionConfig = namedtuple(\n",
    "        'DataIngestionConfig', \n",
    "        ['dataset_download_url', 'tgz_download_url', 'raw_data_dir', 'ingested_train_dir', 'ingested_test_dir']\n",
    "    )"
   ]
  },
  {
   "cell_type": "code",
   "execution_count": 3,
   "metadata": {},
   "outputs": [],
   "source": [
    "data_ingestion_config = DataIngestionConfig(\n",
    "    dataset_download_url='https://test.com',\n",
    "    tgz_download_url='https://demo.com',\n",
    "    raw_data_dir='proj-data',\n",
    "    ingested_train_dir='train',\n",
    "    ingested_test_dir='test'\n",
    ")"
   ]
  },
  {
   "cell_type": "code",
   "execution_count": 4,
   "metadata": {},
   "outputs": [
    {
     "data": {
      "text/plain": [
       "DataIngestionConfig(dataset_download_url='https://test.com', tgz_download_url='https://demo.com', raw_data_dir='proj-data', ingested_train_dir='train', ingested_test_dir='test')"
      ]
     },
     "execution_count": 4,
     "metadata": {},
     "output_type": "execute_result"
    }
   ],
   "source": [
    "data_ingestion_config"
   ]
  }
 ],
 "metadata": {
  "kernelspec": {
   "display_name": "Python 3.9.12 ('venv': venv)",
   "language": "python",
   "name": "python3"
  },
  "language_info": {
   "codemirror_mode": {
    "name": "ipython",
    "version": 3
   },
   "file_extension": ".py",
   "mimetype": "text/x-python",
   "name": "python",
   "nbconvert_exporter": "python",
   "pygments_lexer": "ipython3",
   "version": "3.9.12"
  },
  "orig_nbformat": 4,
  "vscode": {
   "interpreter": {
    "hash": "938ec2e55f2717230116f851cb5baa1d0ec7a367f87ca4153b86b6ad6c231320"
   }
  }
 },
 "nbformat": 4,
 "nbformat_minor": 2
}
